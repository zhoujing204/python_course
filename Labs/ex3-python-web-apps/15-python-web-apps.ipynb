{
 "cells": [
  {
   "cell_type": "markdown",
   "metadata": {},
   "source": [
    "# 实验四: Python Web应用程序"
   ]
  },
  {
   "cell_type": "markdown",
   "metadata": {},
   "source": [
    "- Python虚拟环境\n",
    "- Django Web应用程序\n",
    "- Flask Web应用程序\n",
    "- Streamlit数据分析Web应用程序\n",
    "- Gradio AI Web应用程序"
   ]
  },
  {
   "cell_type": "markdown",
   "metadata": {},
   "source": [
    "## Python虚拟环境"
   ]
  },
  {
   "cell_type": "markdown",
   "metadata": {},
   "source": [
    "### venv"
   ]
  },
  {
   "cell_type": "markdown",
   "metadata": {},
   "source": [
    "1. 使用`venv`创建虚拟环境(Windows操作系统)\n",
    "2. 激活虚拟环境\n",
    "3. 在虚拟环境中安装软件包\n",
    "\n",
    "```bash   \n",
    "python -m venv venv\n",
    "venv\\Scripts\\activate\n",
    "pip install -r requirements.txt\n",
    "```"
   ]
  },
  {
   "cell_type": "markdown",
   "metadata": {},
   "source": [
    "使用`venv`创建虚拟环境方便迅速，但是存在一些缺点：\n",
    "\n",
    "- 不能选择Python版本，只能使用系统默认的Python版本\n",
    "- 不能共享虚拟环境"
   ]
  },
  {
   "cell_type": "markdown",
   "metadata": {},
   "source": [
    "### Anaconda"
   ]
  },
  {
   "cell_type": "markdown",
   "metadata": {},
   "source": [
    "1. 下载安装：[Anaconda](https://www.anaconda.com/download)\n",
    "2. 查看需要使用的命令：[conda cheat sheet](https://docs.conda.io/projects/conda/en/4.6.0/_downloads/52a95608c49671267e40c689e0bc00ca/conda-cheatsheet.pdf)\n",
    "3. 打开Anaconda的终端，使用`conda`命令创建虚拟环境；\n",
    "4. 激活虚拟环境；\n",
    "5. 在虚拟环境中安装软件包。"
   ]
  },
  {
   "cell_type": "markdown",
   "metadata": {},
   "source": [
    "使用Anaconda的优点：\n",
    "\n",
    "1. 可以选择Python版本；\n",
    "2. 可以共享虚拟环境；\n",
    "3. 可以更加方便地管理虚拟环境：复制、删除、导出、导入等；\n",
    "4. Anaconda还提供了很多功能强大的软件包，例如： Jupyter Notebook。"
   ]
  },
  {
   "cell_type": "markdown",
   "metadata": {},
   "source": [
    "### Docker"
   ]
  },
  {
   "cell_type": "markdown",
   "metadata": {},
   "source": [
    "Docker是一个开源的容器化平台，用于轻松构建、部署和运行应用程序。它通过利用操作系统层面的虚拟化技术，将应用程序及其依赖项打包到称为容器的独立单元中。每个容器都包含应用程序、运行时环境、系统工具和所需的系统库，使应用程序能够在任何环境中以相同的方式运行。\n",
    "\n",
    "Docker的主要优势在于它提供了一种快速、轻量级且可移植的解决方案。通过使用Docker，开发人员可以避免在不同的环境中处理繁琐的配置和依赖项问题。Docker容器可以在各种操作系统、云平台和物理机上运行，提供了一致的开发和部署体验。"
   ]
  },
  {
   "cell_type": "markdown",
   "metadata": {},
   "source": [
    "### WSL"
   ]
  },
  {
   "cell_type": "markdown",
   "metadata": {},
   "source": [
    "WSL（Windows Subsystem for Linux）是Windows操作系统中的一个功能，它允许用户在Windows上运行Linux程序。使用WSL有以下几个好处：\n",
    "\n",
    "1. ⚙️兼容性：WSL提供了一个完整的Linux内核，使得在Windows上运行的Linux程序能够以相同的方式在Linux中运行。这意味着开发人员可以在Windows上开发和测试Linux应用程序，而不需要额外的硬件或虚拟机。\n",
    "\n",
    "2. 🔌 方便性：使用WSL，用户可以在Windows终端中直接运行Linux命令，而不需要打开虚拟机或切换到另一个操作系统。我们可以直接使用vscode直接打开WSL中的文件夹，进行项目的开发和调试。\n",
    "\n",
    "3. 🆙生产力：对于开发人员来说，WSL可以提高他们的生产力。他们可以在Windows上使用vscode进行开发，同时直接使用常见的Linux工具和命令行界面，而不需要为了运行Linux程序而切换到另一个操作系统。\n",
    "\n",
    "4. 🛡️安全性：由于WSL是在Windows操作系统中运行的，因此它可以利用Windows的安全特性和机制。这意味着在WSL中运行的Linux程序相对于在独立的Linux系统中运行更加安全。"
   ]
  },
  {
   "cell_type": "markdown",
   "metadata": {},
   "source": [
    "安装WSL的步骤： [视频链接](https://www.bilibili.com/video/BV1PM4y1m75e/?spm_id_from=333.337.search-card.all.click&vd_source=fcb244788c384f6ac111b4d9d46105e2)"
   ]
  },
  {
   "cell_type": "markdown",
   "metadata": {},
   "source": [
    "## Django Web应用程序"
   ]
  },
  {
   "cell_type": "markdown",
   "metadata": {},
   "source": [
    "### 创建Django项目的基本步骤（Windows环境下）"
   ]
  },
  {
   "cell_type": "markdown",
   "metadata": {},
   "source": [
    "1. 创建虚拟环境\n",
    "\n",
    "    ```bash\n",
    "    python -m venv venv\n",
    "    ```\n",
    "\n",
    "2. 激活虚拟环境\n",
    "\n",
    "    ```bash\n",
    "    venv\\Scripts\\activate\n",
    "    ```\n",
    "\n",
    "3. 安装Django\n",
    "\n",
    "    ```bash\n",
    "    pip install -r requirements.txt\n",
    "    ```\n",
    "\n",
    "4. 在Django中创建项目\n",
    "\n",
    "    ```bash\n",
    "    django-admin startproject ll_project .    \n",
    "    ```\n",
    "\n",
    "5. 创建数据库\n",
    "\n",
    "    ```bash\n",
    "    python manage.py migrate\n",
    "    ```\n",
    "\n",
    "6. 查看项目\n",
    "\n",
    "    ```bash\n",
    "    python manage.py runserver\n",
    "    ```"
   ]
  },
  {
   "cell_type": "markdown",
   "metadata": {},
   "source": [
    "### Django的MVC架构"
   ]
  },
  {
   "cell_type": "markdown",
   "metadata": {},
   "source": [
    "Django的MVC架构由模型、视图和控制器组成。模型处理数据的持久化和存储，视图处理用户请求并返回响应，控制器通过URL调度系统将请求分发给正确的视图。这种组织结构使开发人员能够将应用程序的不同功能和关注点分离，提高了代码的可维护性和可扩展性。"
   ]
  },
  {
   "cell_type": "markdown",
   "metadata": {},
   "source": [
    "![MVC framework](./img/basic-django.png)"
   ]
  },
  {
   "cell_type": "markdown",
   "metadata": {},
   "source": [
    "模型（Model）：\n",
    "模型是Django应用程序的数据层。它负责定义数据结构、数据库表格和与数据相关的操作，包括了系统最关键的业务逻辑。模型通常写在`models.py`文件中，并使用字段定义数据的属性和关系。模型用于处理数据的持久化和存储。"
   ]
  },
  {
   "cell_type": "markdown",
   "metadata": {},
   "source": [
    "![Django ORM](./img/django-orm.png)"
   ]
  },
  {
   "cell_type": "markdown",
   "metadata": {},
   "source": [
    "视图（View）：\n",
    "视图是Django应用程序的用户界面层。它负责处理用户的请求并返回响应。视图可以是函数或基于类的视图，它们接收请求对象作为输入，执行逻辑处理，并返回相应的数据或渲染模板。视图通常与URL配置相关联，以决定响应请求的逻辑。视图通常写在`views.py`文件中。"
   ]
  },
  {
   "cell_type": "markdown",
   "metadata": {},
   "source": [
    "控制器（Controller）：\n",
    "在Django中，控制器的功能由URL调度系统和视图共同承担。URL调度系统（通常是`urls.py`文件）将请求的URL映射到相应的视图函数或类。它负责根据URL路径选择适当的视图来处理请求。控制器的主要作用是将请求分发给正确的视图并返回响应。"
   ]
  },
  {
   "cell_type": "markdown",
   "metadata": {},
   "source": [
    "模板（Template）用于视图层和模型层之间的数据呈现。模板负责将数据从视图传递给最终呈现给用户的HTML页面。在项目中，模板通常存放在`templates`文件夹中。"
   ]
  },
  {
   "cell_type": "markdown",
   "metadata": {},
   "source": [
    "Bootstrap CSS框架：Bootstrap是一个流行的前端框架，旨在帮助开发者更快速、更容易地构建响应式和移动优先的网站和应用程序。Bootstrap 提供了丰富的HTML、CSS和JavaScript组件，包括按钮、导航栏、表单、标签页、模态框、轮播图等。这些组件可以直接在项目中使用，无需自己编写样式和脚本，从而大大提高了开发效率。"
   ]
  },
  {
   "cell_type": "markdown",
   "metadata": {},
   "source": [
    "![bootstrap vs tailwind](./img/bootstrap-vs-tailwind.png)"
   ]
  },
  {
   "cell_type": "markdown",
   "metadata": {},
   "source": [
    "JavaScript 前端框架是一个用于构建复杂 Web 应用程序的工具集。它提供了一系列预定义的组件和类，可以帮助开发人员快速构建用户界面、交互式元素和动画效果。\n",
    "\n",
    "目前，最流行的前端框架包括：\n",
    "\n",
    "- Angular\n",
    "- React\n",
    "- Vue"
   ]
  },
  {
   "cell_type": "markdown",
   "metadata": {},
   "source": [
    "![](./img/frontedn-framework.jpg)\n",
    "![](./img/frontedn-framework2.jpg)"
   ]
  },
  {
   "cell_type": "markdown",
   "metadata": {},
   "source": [
    "Django的插件和第三方的库： [awesome-django](https://github.com/wsvincent/awesome-django)"
   ]
  },
  {
   "cell_type": "markdown",
   "metadata": {},
   "source": [
    "## Flask Web应用程序"
   ]
  },
  {
   "cell_type": "markdown",
   "metadata": {},
   "source": [
    "比较Django和Flask\n",
    "\n",
    "1. 复杂度：\n",
    "   - Django是一种\"全功能\"框架，提供了许多内置的功能和工具，如ORM（对象关系映射）、表单处理、用户认证等。它有一个丰富的生态系统和一套完整的文档。Django适合构建大型和复杂的Web应用程序。\n",
    "   - Flask是一种\"微框架\"，提供了最基本的功能，如路由、请求处理和模板渲染。它的目标是简单和灵活，允许开发人员根据自己的需求选择和集成其他工具。Flask适合构建小型和中型的Web应用程序。\n",
    "\n",
    "2. 学习曲线：\n",
    "   - 由于Django具有大量的内置功能和约定，学习曲线较陡峭。初学者可能需要花一些时间来学习Django的文件结构、ORM和其他相关概念。\n",
    "   - Flask相对来说学习曲线较平缓。它的设计非常直观，只需要几个简单的概念和API就能快速上手。\n",
    "\n",
    "3. 灵活性：\n",
    "   - Flask提供了很大的灵活性，它允许开发人员根据自己的需求选择和集成所需的库和工具。Flask没有内置的ORM，但它可以与许多流行的ORM库集成。\n",
    "   - Django虽然提供了很多内置工具，但它也限制了一些灵活性。例如，在数据库选择方面，Django更适合使用自己的ORM。\n",
    "\n",
    "4. 社区和生态系统：\n",
    "   - Django拥有庞大的社区和生态系统，有很多第三方插件和扩展可供使用。这使得在Django上构建复杂的Web应用程序变得更加容易。\n",
    "   - Flask的社区和生态系统相对较小，但仍然有许多有用的插件和扩展可用。"
   ]
  },
  {
   "cell_type": "markdown",
   "metadata": {},
   "source": [
    "![flower petal and setal](./Mature_flower_diagram.svg.png)"
   ]
  },
  {
   "cell_type": "code",
   "execution_count": 1,
   "metadata": {},
   "outputs": [
    {
     "data": {
      "text/html": [
       "\n",
       "        <iframe\n",
       "            width=\"100%\"\n",
       "            height=\"650\"\n",
       "            src=\"http://127.0.0.1:8050/\"\n",
       "            frameborder=\"0\"\n",
       "            allowfullscreen\n",
       "            \n",
       "        ></iframe>\n",
       "        "
      ],
      "text/plain": [
       "<IPython.lib.display.IFrame at 0x25b563708f0>"
      ]
     },
     "metadata": {},
     "output_type": "display_data"
    }
   ],
   "source": [
    "from dash import Dash, dcc, html, Input, Output\n",
    "import plotly.express as px\n",
    "\n",
    "app = Dash(__name__)\n",
    "\n",
    "app.layout = html.Div([\n",
    "    html.H4('Analysis of Iris data using scatter matrix'),\n",
    "    dcc.Dropdown(\n",
    "        id=\"plotly-express-x-dropdown\",\n",
    "        options=['sepal_length', 'sepal_width', 'petal_length', 'petal_width'],\n",
    "        value=['sepal_length', 'sepal_width'],\n",
    "        multi=True\n",
    "    ),\n",
    "    dcc.Graph(id=\"plotly-express-x-graph\"),\n",
    "])\n",
    "\n",
    "\n",
    "@app.callback(\n",
    "    Output(\"plotly-express-x-graph\", \"figure\"),\n",
    "    Input(\"plotly-express-x-dropdown\", \"value\"))\n",
    "def update_bar_chart(dims):\n",
    "    df = px.data.iris() # replace with your own data source\n",
    "    fig = px.scatter_matrix(\n",
    "        df, dimensions=dims, color=\"species\")\n",
    "    return fig\n",
    "\n",
    "\n",
    "if __name__ == \"__main__\":\n",
    "    app.run_server(debug=True)"
   ]
  },
  {
   "cell_type": "markdown",
   "metadata": {},
   "source": [
    "ChatGPT的简单的范例：[OpenAI quick start](https://github.com/openai/openai-quickstart-python)"
   ]
  },
  {
   "cell_type": "markdown",
   "metadata": {},
   "source": [
    "## Streamlit数据分析Web应用程序"
   ]
  },
  {
   "cell_type": "markdown",
   "metadata": {},
   "source": [
    "Streamlit是一种用于创建交互式数据应用程序的Python库。它使开发者能够快速构建具有web界面和实时更新功能的数据应用，无需使用HTML、CSS或JavaScript。\n",
    "\n",
    "Streamlit的特点包括：\n",
    "- 简单易用：只需几行代码即可创建应用\n",
    "- 实时更新：数据和输出的实时交互\n",
    "- 自动布局：自动排列和调整界面组件\n",
    "- 多种输入组件：包括滑块、按钮、下拉列表等\n",
    "- 丰富的Markdown支持：可添加富文本内容\n",
    "- 数据可视化：支持各种图表库"
   ]
  },
  {
   "cell_type": "markdown",
   "metadata": {},
   "source": [
    "Streamlit 演示Demo: [BuLiAn - Bundesliga Analyzer](https://tdenzl-bulian-bulian-ifeiih.streamlit.app)"
   ]
  },
  {
   "cell_type": "markdown",
   "metadata": {},
   "source": [
    "## Gradio AI Web应用程序"
   ]
  },
  {
   "cell_type": "markdown",
   "metadata": {},
   "source": [
    "[Gradio](https://huggingface.co/gradio)是由Hugging Face公司提供的，一个用于构建交互式界面的Python库。它旨在为机器学习和深度学习模型提供简单而强大的部署方法，使其易于与人进行交互。\n",
    "\n",
    "Gradio具有以下几个特点：\n",
    "\n",
    "1. 简单易用：Gradio提供了简单而直观的API，使开发人员可以快速构建交互式界面。无需专业的前端开发知识，即可创建界面并将机器学习模型集成其中。\n",
    "\n",
    "2. 多种输入类型：Gradio支持多种常见的输入类型，包括文本、图像和音频等。开发人员可以根据模型的需求选择合适的输入类型，以适应不同的应用场景。\n",
    "\n",
    "3. 实时预测结果：Gradio可以根据用户的输入实时更新模型的预测结果。这意味着用户可以立即看到模型对其输入的反馈，从而提供了更好的交互体验。\n",
    "\n",
    "4. 可自定义性：Gradio允许开发人员灵活地自定义界面的外观和功能。可以使用自定义的CSS样式、布局和控件来满足特定需求，使界面更具吸引力和易用性。\n",
    "\n",
    "5. 与主流机器学习框架的集成：Gradio与主流机器学习框架（如TensorFlow和PyTorch）集成紧密，使开发人员可以方便地将训练好的模型部署到Gradio界面中。\n",
    "\n",
    "6. 方便部署：Gradio支持将模型导出为REST端点，以便可以在Web应用程序或其他系统中使用。这使得模型的部署更加灵活和可扩展。"
   ]
  },
  {
   "cell_type": "markdown",
   "metadata": {},
   "source": [
    "### Gradio Hello World"
   ]
  },
  {
   "cell_type": "code",
   "execution_count": null,
   "metadata": {},
   "outputs": [],
   "source": [
    "# 安装gradio\n",
    "%pip install gradio"
   ]
  },
  {
   "cell_type": "code",
   "execution_count": 1,
   "metadata": {},
   "outputs": [
    {
     "name": "stdout",
     "output_type": "stream",
     "text": [
      "* Running on local URL:  http://127.0.0.1:7860\n",
      "\n",
      "To create a public link, set `share=True` in `launch()`.\n"
     ]
    },
    {
     "data": {
      "text/html": [
       "<div><iframe src=\"http://127.0.0.1:7860/\" width=\"100%\" height=\"500\" allow=\"autoplay; camera; microphone; clipboard-read; clipboard-write;\" frameborder=\"0\" allowfullscreen></iframe></div>"
      ],
      "text/plain": [
       "<IPython.core.display.HTML object>"
      ]
     },
     "metadata": {},
     "output_type": "display_data"
    },
    {
     "data": {
      "text/plain": []
     },
     "execution_count": 1,
     "metadata": {},
     "output_type": "execute_result"
    }
   ],
   "source": [
    "import gradio as gr\n",
    "\n",
    "def greet(name):\n",
    "    return \"Hello \" + name + \"!\"\n",
    "\n",
    "demo = gr.Interface(fn=greet, inputs=\"text\", outputs=\"text\")\n",
    "\n",
    "demo.launch()"
   ]
  },
  {
   "cell_type": "markdown",
   "metadata": {},
   "source": [
    "Interface类初始化时需要三个必需的参数：\n",
    "\n",
    "- fn：要封装为用户界面的函数\n",
    "- inputs：用于输入的组件（例如：\"text\"、\"image\" 或 \"audio\"）\n",
    "- outputs：用于输出的组件（例如：\"text\"、\"image\" 或 \"label\"）"
   ]
  },
  {
   "cell_type": "markdown",
   "metadata": {},
   "source": [
    "stable-diffusion-webui开源项目：[stable-diffusion-webui](https://github.com/AUTOMATIC1111/stable-diffusion-webui)\n",
    "\n",
    "![stable-diffusion-webui界面](./img/sd-webui-screenshot.png)"
   ]
  },
  {
   "cell_type": "markdown",
   "metadata": {},
   "source": [
    "DeepLearning.AI的Gradio课程： [课程地址](https://www.deeplearning.ai/short-courses/building-generative-ai-applications-with-gradio/)"
   ]
  }
 ],
 "metadata": {
  "kernelspec": {
   "display_name": "Python 3",
   "language": "python",
   "name": "python3"
  },
  "language_info": {
   "codemirror_mode": {
    "name": "ipython",
    "version": 3
   },
   "file_extension": ".py",
   "mimetype": "text/x-python",
   "name": "python",
   "nbconvert_exporter": "python",
   "pygments_lexer": "ipython3",
   "version": "3.12.0"
  },
  "orig_nbformat": 4
 },
 "nbformat": 4,
 "nbformat_minor": 2
}
